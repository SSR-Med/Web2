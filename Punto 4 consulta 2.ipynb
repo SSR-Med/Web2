{
 "cells": [
  {
   "cell_type": "markdown",
   "metadata": {},
   "source": [
    "# Punto 4 - consulta 2"
   ]
  },
  {
   "cell_type": "code",
   "execution_count": null,
   "metadata": {},
   "outputs": [],
   "source": [
    "pip install rdflib"
   ]
  },
  {
   "cell_type": "code",
   "execution_count": null,
   "metadata": {},
   "outputs": [],
   "source": [
    "# Punto 4\n",
    "from rdflib import Graph, Literal, BNode, URIRef, Namespace\n",
    "# Creamos un grafo vacio\n",
    "g = Graph()"
   ]
  },
  {
   "cell_type": "code",
   "execution_count": null,
   "metadata": {},
   "outputs": [],
   "source": [
    "# Parse a la ontologia\n",
    "g.parse(\"Computador.owl\",format =\"ttl\")"
   ]
  },
  {
   "cell_type": "code",
   "execution_count": null,
   "metadata": {},
   "outputs": [],
   "source": [
    "# Segunda consulta\n",
    "# Se va a recoger los nombres de las clases cuya clase padre sea Parte_Computador\n",
    "consulta2 = \"\"\"\n",
    "PREFIX computador: <http://www.computador.org>\n",
    "SELECT ?nombre\n",
    "WHERE{\n",
    "  ?objeto rdf:type owl:Class;\n",
    "    rdfs:label ?nombre;\n",
    "    rdfs:subClassOf ?propiedad.\n",
    "  ?propiedad rdfs:label ?nombrePropiedad.\n",
    "  FILTER(?nombrePropiedad = \"Parte_Computador\").\n",
    "}\n",
    "\"\"\"\n",
    "for row in g.query(consulta2):\n",
    "  print(row)"
   ]
  }
 ],
 "metadata": {
  "kernelspec": {
   "display_name": "Python 3.10.8 64-bit (microsoft store)",
   "language": "python",
   "name": "python3"
  },
  "language_info": {
   "name": "python",
   "version": "3.10.8"
  },
  "orig_nbformat": 4,
  "vscode": {
   "interpreter": {
    "hash": "0cd62d5d031b152b2ec5946609b5cc0025bf6a0f5a4a3f4561010b492f6afa94"
   }
  }
 },
 "nbformat": 4,
 "nbformat_minor": 2
}
