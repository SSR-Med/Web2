{
 "cells": [
  {
   "cell_type": "markdown",
   "metadata": {},
   "source": [
    "# Punto 4 - consulta 2"
   ]
  },
  {
   "cell_type": "code",
   "execution_count": null,
   "metadata": {},
   "outputs": [],
   "source": [
    "pip install rdflib"
   ]
  },
  {
   "cell_type": "code",
   "execution_count": 1,
   "metadata": {},
   "outputs": [],
   "source": [
    "# Punto 4\n",
    "from rdflib import Graph, Literal, BNode, URIRef, Namespace\n",
    "# Creamos un grafo vacio\n",
    "g = Graph()"
   ]
  },
  {
   "cell_type": "code",
   "execution_count": 2,
   "metadata": {},
   "outputs": [
    {
     "data": {
      "text/plain": [
       "<Graph identifier=Nc536c8ff318e4fe69c2ac78c7a81913f (<class 'rdflib.graph.Graph'>)>"
      ]
     },
     "execution_count": 2,
     "metadata": {},
     "output_type": "execute_result"
    }
   ],
   "source": [
    "# Parse a la ontologia\n",
    "g.parse(\"Computador.owl\",format =\"ttl\")"
   ]
  },
  {
   "cell_type": "code",
   "execution_count": 3,
   "metadata": {},
   "outputs": [
    {
     "name": "stdout",
     "output_type": "stream",
     "text": [
      "(rdflib.term.Literal('Board', datatype=rdflib.term.URIRef('http://www.w3.org/2001/XMLSchema#string')),)\n",
      "(rdflib.term.Literal('Disco_Duro', datatype=rdflib.term.URIRef('http://www.w3.org/2001/XMLSchema#string')),)\n",
      "(rdflib.term.Literal('GPU', datatype=rdflib.term.URIRef('http://www.w3.org/2001/XMLSchema#string')),)\n",
      "(rdflib.term.Literal('Nucleo_CPU', datatype=rdflib.term.URIRef('http://www.w3.org/2001/XMLSchema#string')),)\n",
      "(rdflib.term.Literal('Ram', datatype=rdflib.term.URIRef('http://www.w3.org/2001/XMLSchema#string')),)\n",
      "(rdflib.term.Literal('Tipo_Refrigeracion', datatype=rdflib.term.URIRef('http://www.w3.org/2001/XMLSchema#string')),)\n"
     ]
    }
   ],
   "source": [
    "# Segunda consulta\n",
    "# Se va a recoger los nombres de las clases cuya clase padre sea Parte_Computador\n",
    "consulta2 = \"\"\"\n",
    "PREFIX computador: <http://www.computador.org>\n",
    "SELECT ?nombre\n",
    "WHERE{\n",
    "  ?objeto rdf:type owl:Class;\n",
    "    rdfs:label ?nombre;\n",
    "    rdfs:subClassOf ?propiedad.\n",
    "  ?propiedad rdfs:label ?nombrePropiedad.\n",
    "  FILTER(?nombrePropiedad = \"Parte_Computador\").\n",
    "}\n",
    "\"\"\"\n",
    "for row in g.query(consulta2):\n",
    "  print(row)"
   ]
  }
 ],
 "metadata": {
  "kernelspec": {
   "display_name": "Python 3.10.2 64-bit",
   "language": "python",
   "name": "python3"
  },
  "language_info": {
   "codemirror_mode": {
    "name": "ipython",
    "version": 3
   },
   "file_extension": ".py",
   "mimetype": "text/x-python",
   "name": "python",
   "nbconvert_exporter": "python",
   "pygments_lexer": "ipython3",
   "version": "3.10.2"
  },
  "orig_nbformat": 4,
  "vscode": {
   "interpreter": {
    "hash": "1f89eb7ee7f691a835530315e9cc5d675e01c25354f3226d466fc4ec3dae4d41"
   }
  }
 },
 "nbformat": 4,
 "nbformat_minor": 2
}
