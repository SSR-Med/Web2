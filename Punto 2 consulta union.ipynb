{
 "cells": [
  {
   "cell_type": "code",
   "execution_count": 1,
   "metadata": {},
   "outputs": [],
   "source": [
    "# Importamos la libreria SPARQLWrapper\n",
    "from SPARQLWrapper import SPARQLWrapper, POST, DIGEST,JSON\n",
    "\n",
    "# Indicamos el endpoint donde haremos la consulta\n",
    "sparql = SPARQLWrapper(\"https://virtuoso-prod-practica-2-sriw-u6r5p2.mo5.mogenius.io/sparql-auth/\")\n",
    "\n",
    "\n",
    "# Damos las credenciales para hacer la consulta\n",
    "sparql.setHTTPAuth(DIGEST)\n",
    "sparql.setCredentials(\"dba\", \"dba\")\n",
    "sparql.setMethod(POST)"
   ]
  },
  {
   "cell_type": "code",
   "execution_count": 2,
   "metadata": {},
   "outputs": [
    {
     "name": "stdout",
     "output_type": "stream",
     "text": [
      "b'<sparql xmlns=\"http://www.w3.org/2005/sparql-results#\" xmlns:xsi=\"http://www.w3.org/2001/XMLSchema-instance\" xsi:schemaLocation=\"http://www.w3.org/2001/sw/DataAccess/rf1/result2.xsd\">\\n <head>\\n  <variable name=\"callret-0\"/>\\n </head>\\n <results distinct=\"false\" ordered=\"true\">\\n  <result>\\n   <binding name=\"callret-0\"><literal>Insert into &lt;http://www.computador.org/&gt;, 3 (or less) triples -- done</literal></binding>\\n  </result>\\n </results>\\n</sparql>\\n'\n"
     ]
    }
   ],
   "source": [
    "# Consulta\n",
    "consulta = \"\"\"\n",
    "prefix wdt: <http://www.wikidata.org/prop/direct/>\n",
    "prefix wd: <http://www.wikidata.org/entity/>\n",
    "PREFIX computador: <http://www.computador.org/>\n",
    "\n",
    "INSERT {GRAPH <http://www.computador.org/> {?Ram rdfs:subClassOf computador:Ram.}\n",
    "}\n",
    "WHERE {\n",
    "  SERVICE <https://query.wikidata.org/sparql> {\n",
    "    {?Ram wdt:P156 wd:Q847146.}\n",
    "    UNION\n",
    "    {?Ram wdt:P279 wd:Q847207.}\n",
    "  }\n",
    "}\n",
    "\n",
    "\"\"\"\n",
    "sparql.setQuery(consulta)\n",
    "# Obtenemos el resultado y ejecutamos la consulta\n",
    "results = sparql.query()\n",
    "\n",
    "# imprimimos el resultado\n",
    "print(results.response.read())"
   ]
  }
 ],
 "metadata": {
  "kernelspec": {
   "display_name": "Python 3.10.8 64-bit (microsoft store)",
   "language": "python",
   "name": "python3"
  },
  "language_info": {
   "codemirror_mode": {
    "name": "ipython",
    "version": 3
   },
   "file_extension": ".py",
   "mimetype": "text/x-python",
   "name": "python",
   "nbconvert_exporter": "python",
   "pygments_lexer": "ipython3",
   "version": "3.10.8"
  },
  "orig_nbformat": 4,
  "vscode": {
   "interpreter": {
    "hash": "0cd62d5d031b152b2ec5946609b5cc0025bf6a0f5a4a3f4561010b492f6afa94"
   }
  }
 },
 "nbformat": 4,
 "nbformat_minor": 2
}
