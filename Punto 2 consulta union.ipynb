{
 "cells": [
  {
   "cell_type": "code",
   "execution_count": null,
   "metadata": {},
   "outputs": [],
   "source": [
    "# Importamos la libreria SPARQLWrapper\n",
    "from SPARQLWrapper import SPARQLWrapper, POST, DIGEST,JSON\n",
    "\n",
    "# Indicamos el endpoint donde haremos la consulta\n",
    "sparql = SPARQLWrapper(\"https://virtuoso-prod-practica-2-sriw-u6r5p2.mo5.mogenius.io/sparql-auth/\")\n",
    "\n",
    "\n",
    "# Damos las credenciales para hacer la consulta\n",
    "sparql.setHTTPAuth(DIGEST)\n",
    "sparql.setCredentials(\"dba\", \"dba\")\n",
    "sparql.setMethod(POST)"
   ]
  },
  {
   "cell_type": "code",
   "execution_count": null,
   "metadata": {},
   "outputs": [],
   "source": [
    "# Consulta\n",
    "consulta = \"\"\"\n",
    "prefix wdt: <http://www.wikidata.org/prop/direct/>\n",
    "prefix wd: <http://www.wikidata.org/entity/>\n",
    "PREFIX computador: <http://www.computador.org/>\n",
    "\n",
    "INSERT {GRAPH <http://www.computador.org/> {}\n",
    "}\n",
    "WHERE {\n",
    "  SERVICE <https://query.wikidata.org/sparql> {\n",
    "    \n",
    "    {}\n",
    "\n",
    "    UNION\n",
    "\n",
    "    {}\n",
    "\n",
    "  }\n",
    "}\n",
    "\n",
    "\"\"\"\n",
    "sparql.setQuery(consulta)\n",
    "# Obtenemos el resultado y ejecutamos la consulta\n",
    "results = sparql.query()\n",
    "\n",
    "# imprimimos el resultado\n",
    "print(results.response.read())"
   ]
  }
 ],
 "metadata": {
  "kernelspec": {
   "display_name": "Python 3.9.12 ('base')",
   "language": "python",
   "name": "python3"
  },
  "language_info": {
   "name": "python",
   "version": "3.9.12"
  },
  "orig_nbformat": 4,
  "vscode": {
   "interpreter": {
    "hash": "8a588f435fff8c811bf416003bd22d44653447160aa6b49c25e92b366f1726fb"
   }
  }
 },
 "nbformat": 4,
 "nbformat_minor": 2
}
