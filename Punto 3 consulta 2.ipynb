{
 "cells": [
  {
   "cell_type": "markdown",
   "metadata": {},
   "source": [
    "# Punto 3 - consulta 2"
   ]
  },
  {
   "cell_type": "code",
   "execution_count": 1,
   "metadata": {},
   "outputs": [
    {
     "name": "stdout",
     "output_type": "stream",
     "text": [
      "Requirement already satisfied: rdflib in c:\\users\\d3yn3r\\appdata\\local\\packages\\pythonsoftwarefoundation.python.3.10_qbz5n2kfra8p0\\localcache\\local-packages\\python310\\site-packages (6.2.0)\n",
      "Requirement already satisfied: pyparsing in c:\\users\\d3yn3r\\appdata\\local\\packages\\pythonsoftwarefoundation.python.3.10_qbz5n2kfra8p0\\localcache\\local-packages\\python310\\site-packages (from rdflib) (3.0.9)\n",
      "Requirement already satisfied: setuptools in c:\\program files\\windowsapps\\pythonsoftwarefoundation.python.3.10_3.10.2288.0_x64__qbz5n2kfra8p0\\lib\\site-packages (from rdflib) (63.2.0)\n",
      "Requirement already satisfied: isodate in c:\\users\\d3yn3r\\appdata\\local\\packages\\pythonsoftwarefoundation.python.3.10_qbz5n2kfra8p0\\localcache\\local-packages\\python310\\site-packages (from rdflib) (0.6.1)\n",
      "Requirement already satisfied: six in c:\\users\\d3yn3r\\appdata\\local\\packages\\pythonsoftwarefoundation.python.3.10_qbz5n2kfra8p0\\localcache\\local-packages\\python310\\site-packages (from isodate->rdflib) (1.16.0)\n",
      "Note: you may need to restart the kernel to use updated packages.\n"
     ]
    }
   ],
   "source": [
    "pip install rdflib"
   ]
  },
  {
   "cell_type": "code",
   "execution_count": 1,
   "metadata": {},
   "outputs": [],
   "source": [
    "# Importamos la libreria SPARQLWrapper\n",
    "from SPARQLWrapper import SPARQLWrapper, POST, DIGEST,JSON\n",
    "\n",
    "# Indicamos el endpoint donde haremos la consulta\n",
    "sparql = SPARQLWrapper(\"https://virtuoso-prod-practica-2-sriw-u6r5p2.mo5.mogenius.io/sparql-auth/\")\n",
    "\n",
    "\n",
    "# Damos las credenciales para hacer la consulta\n",
    "sparql.setHTTPAuth(DIGEST)\n",
    "sparql.setCredentials(\"dba\", \"dba\")\n",
    "sparql.setMethod(POST)"
   ]
  },
  {
   "cell_type": "code",
   "execution_count": 2,
   "metadata": {},
   "outputs": [
    {
     "name": "stdout",
     "output_type": "stream",
     "text": [
      "b'<sparql xmlns=\"http://www.w3.org/2005/sparql-results#\" xmlns:xsi=\"http://www.w3.org/2001/XMLSchema-instance\" xsi:schemaLocation=\"http://www.w3.org/2001/sw/DataAccess/rf1/result2.xsd\">\\n <head>\\n  <variable name=\"callret-0\"/>\\n </head>\\n <results distinct=\"false\" ordered=\"true\">\\n  <result>\\n   <binding name=\"callret-0\"><literal>Insert into &lt;http://www.computador.org/&gt;, 36 (or less) triples -- done</literal></binding>\\n  </result>\\n </results>\\n</sparql>\\n'\n"
     ]
    }
   ],
   "source": [
    "# Consultar e insertar con wikidata\n",
    "consulta = \"\"\"\n",
    "prefix wdt: <http://www.wikidata.org/prop/direct/>\n",
    "prefix wd: <http://www.wikidata.org/entity/>\n",
    "PREFIX computador: <http://www.computador.org/>\n",
    "INSERT {GRAPH <http://www.computador.org/> {?parteComputador rdfs:subClassOf computador:Parte_Computador.?parteComputador rdfs:label ?parteComputadorLabel.}\n",
    "}\n",
    "WHERE {\n",
    "  SERVICE <https://query.wikidata.org/sparql> {\n",
    "    ?parteComputador wdt:P361 wd:Q68.\n",
    "    ?parteComputador rdfs:label ?parteComputadorLabel.\n",
    "    FILTER( LANG(?parteComputadorLabel) = \"en\" ).\n",
    "  }\n",
    "}\n",
    "\n",
    "\"\"\"\n",
    "sparql.setQuery(consulta)\n",
    "# Obtenemos el resultado y ejecutamos la consulta\n",
    "results = sparql.query()\n",
    "\n",
    "# imprimimos el resultado\n",
    "print(results.response.read())"
   ]
  }
 ],
 "metadata": {
  "kernelspec": {
   "display_name": "Python 3.10.8 64-bit (microsoft store)",
   "language": "python",
   "name": "python3"
  },
  "language_info": {
   "codemirror_mode": {
    "name": "ipython",
    "version": 3
   },
   "file_extension": ".py",
   "mimetype": "text/x-python",
   "name": "python",
   "nbconvert_exporter": "python",
   "pygments_lexer": "ipython3",
   "version": "3.10.8"
  },
  "orig_nbformat": 4,
  "vscode": {
   "interpreter": {
    "hash": "0cd62d5d031b152b2ec5946609b5cc0025bf6a0f5a4a3f4561010b492f6afa94"
   }
  }
 },
 "nbformat": 4,
 "nbformat_minor": 2
}
