{
 "cells": [
  {
   "cell_type": "markdown",
   "metadata": {},
   "source": [
    "# Punto 4 - consulta 1"
   ]
  },
  {
   "cell_type": "code",
   "execution_count": 1,
   "metadata": {},
   "outputs": [
    {
     "name": "stdout",
     "output_type": "stream",
     "text": [
      "Requirement already satisfied: rdflib in c:\\users\\d3yn3r\\appdata\\local\\packages\\pythonsoftwarefoundation.python.3.10_qbz5n2kfra8p0\\localcache\\local-packages\\python310\\site-packages (6.2.0)\n",
      "Requirement already satisfied: pyparsing in c:\\users\\d3yn3r\\appdata\\local\\packages\\pythonsoftwarefoundation.python.3.10_qbz5n2kfra8p0\\localcache\\local-packages\\python310\\site-packages (from rdflib) (3.0.9)\n",
      "Requirement already satisfied: setuptools in c:\\program files\\windowsapps\\pythonsoftwarefoundation.python.3.10_3.10.2288.0_x64__qbz5n2kfra8p0\\lib\\site-packages (from rdflib) (63.2.0)\n",
      "Requirement already satisfied: isodate in c:\\users\\d3yn3r\\appdata\\local\\packages\\pythonsoftwarefoundation.python.3.10_qbz5n2kfra8p0\\localcache\\local-packages\\python310\\site-packages (from rdflib) (0.6.1)\n",
      "Requirement already satisfied: six in c:\\users\\d3yn3r\\appdata\\local\\packages\\pythonsoftwarefoundation.python.3.10_qbz5n2kfra8p0\\localcache\\local-packages\\python310\\site-packages (from isodate->rdflib) (1.16.0)\n",
      "Note: you may need to restart the kernel to use updated packages.\n"
     ]
    }
   ],
   "source": [
    "pip install rdflib"
   ]
  },
  {
   "cell_type": "code",
   "execution_count": 1,
   "metadata": {},
   "outputs": [],
   "source": [
    "# Punto 4\n",
    "from rdflib import Graph, Literal, BNode, URIRef, Namespace\n",
    "# Creamos un grafo vacio\n",
    "g = Graph()"
   ]
  },
  {
   "cell_type": "code",
   "execution_count": 2,
   "metadata": {},
   "outputs": [
    {
     "data": {
      "text/plain": [
       "<Graph identifier=Naacbdfd5173042b9abcf7fb7c10e0e8b (<class 'rdflib.graph.Graph'>)>"
      ]
     },
     "execution_count": 2,
     "metadata": {},
     "output_type": "execute_result"
    }
   ],
   "source": [
    "# Parse a la ontologia\n",
    "g.parse(\"Computador.owl\",format =\"ttl\")"
   ]
  },
  {
   "cell_type": "code",
   "execution_count": 3,
   "metadata": {},
   "outputs": [
    {
     "name": "stdout",
     "output_type": "stream",
     "text": [
      "(rdflib.term.Literal('Acer_53J2', datatype=rdflib.term.URIRef('http://www.w3.org/2001/XMLSchema#string')),)\n",
      "(rdflib.term.Literal('Acer_5542', datatype=rdflib.term.URIRef('http://www.w3.org/2001/XMLSchema#string')),)\n",
      "(rdflib.term.Literal('Asus_TUF_Gaming', datatype=rdflib.term.URIRef('http://www.w3.org/2001/XMLSchema#string')),)\n",
      "(rdflib.term.Literal('Asus_Vivobook_M1402IA', datatype=rdflib.term.URIRef('http://www.w3.org/2001/XMLSchema#string')),)\n",
      "(rdflib.term.Literal('Asus_X515EA', datatype=rdflib.term.URIRef('http://www.w3.org/2001/XMLSchema#string')),)\n",
      "(rdflib.term.Literal('BATTLEBOX_SUPER', datatype=rdflib.term.URIRef('http://www.w3.org/2001/XMLSchema#string')),)\n",
      "(rdflib.term.Literal('ChromeBook_113180', datatype=rdflib.term.URIRef('http://www.w3.org/2001/XMLSchema#string')),)\n",
      "(rdflib.term.Literal('Computador_Gamer', datatype=rdflib.term.URIRef('http://www.w3.org/2001/XMLSchema#string')),)\n",
      "(rdflib.term.Literal('Computador_Hp_250', datatype=rdflib.term.URIRef('http://www.w3.org/2001/XMLSchema#string')),)\n",
      "(rdflib.term.Literal('HP_dy2505la', datatype=rdflib.term.URIRef('http://www.w3.org/2001/XMLSchema#string')),)\n",
      "(rdflib.term.Literal('HP_ef2512la', datatype=rdflib.term.URIRef('http://www.w3.org/2001/XMLSchema#string')),)\n",
      "(rdflib.term.Literal('Lenovo_39GX', datatype=rdflib.term.URIRef('http://www.w3.org/2001/XMLSchema#string')),)\n",
      "(rdflib.term.Literal('Lenovo_IdeaCenter', datatype=rdflib.term.URIRef('http://www.w3.org/2001/XMLSchema#string')),)\n",
      "(rdflib.term.Literal('Lenovo_IdeaPad_5_Pro', datatype=rdflib.term.URIRef('http://www.w3.org/2001/XMLSchema#string')),)\n",
      "(rdflib.term.Literal('Lenovo_Ideapad_3', datatype=rdflib.term.URIRef('http://www.w3.org/2001/XMLSchema#string')),)\n",
      "(rdflib.term.Literal('Macintosh_128K', datatype=rdflib.term.URIRef('http://www.w3.org/2001/XMLSchema#string')),)\n",
      "(rdflib.term.Literal('Pro_Gamer_MOBA', datatype=rdflib.term.URIRef('http://www.w3.org/2001/XMLSchema#string')),)\n",
      "(rdflib.term.Literal('ROG_Zephyrus_GA402RJ', datatype=rdflib.term.URIRef('http://www.w3.org/2001/XMLSchema#string')),)\n",
      "(rdflib.term.Literal('ROG_Zephyrus_GX650RX', datatype=rdflib.term.URIRef('http://www.w3.org/2001/XMLSchema#string')),)\n",
      "(rdflib.term.Literal('Titan_V3', datatype=rdflib.term.URIRef('http://www.w3.org/2001/XMLSchema#string')),)\n",
      "(rdflib.term.Literal('Victus_dlh007', datatype=rdflib.term.URIRef('http://www.w3.org/2001/XMLSchema#string')),)\n",
      "(rdflib.term.Literal('Victus_dlh008', datatype=rdflib.term.URIRef('http://www.w3.org/2001/XMLSchema#string')),)\n",
      "(rdflib.term.Literal('iMac_G3', datatype=rdflib.term.URIRef('http://www.w3.org/2001/XMLSchema#string')),)\n",
      "(rdflib.term.Literal('iMac_G4', datatype=rdflib.term.URIRef('http://www.w3.org/2001/XMLSchema#string')),)\n",
      "(rdflib.term.Literal('iMac_G5', datatype=rdflib.term.URIRef('http://www.w3.org/2001/XMLSchema#string')),)\n"
     ]
    }
   ],
   "source": [
    "# Hora de crear las consultas\n",
    "# Primera consulta\n",
    "# Lo que hace esta consulta es recoger todos los nombres de los individuos\n",
    "consulta1 = \"\"\"\n",
    "PREFIX computador: <http://www.computador.org>\n",
    "SELECT ?nombre\n",
    "WHERE{\n",
    "  ?individuo rdf:type owl:NamedIndividual.\n",
    "  ?individuo rdfs:label ?nombre.\n",
    "}\n",
    "\"\"\"\n",
    "for row in g.query(consulta1):\n",
    "  print(row)"
   ]
  }
 ],
 "metadata": {
  "kernelspec": {
   "display_name": "Python 3.10.2 64-bit",
   "language": "python",
   "name": "python3"
  },
  "language_info": {
   "codemirror_mode": {
    "name": "ipython",
    "version": 3
   },
   "file_extension": ".py",
   "mimetype": "text/x-python",
   "name": "python",
   "nbconvert_exporter": "python",
   "pygments_lexer": "ipython3",
   "version": "3.10.2"
  },
  "orig_nbformat": 4,
  "vscode": {
   "interpreter": {
    "hash": "1f89eb7ee7f691a835530315e9cc5d675e01c25354f3226d466fc4ec3dae4d41"
   }
  }
 },
 "nbformat": 4,
 "nbformat_minor": 2
}
